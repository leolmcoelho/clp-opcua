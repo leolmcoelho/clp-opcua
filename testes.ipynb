{
 "cells": [
  {
   "cell_type": "code",
   "execution_count": 3,
   "metadata": {},
   "outputs": [
    {
     "name": "stdout",
     "output_type": "stream",
     "text": [
      "Exporting to CSV...\n",
      "\u001b[F\u001b[KExport to CSV completed.\n"
     ]
    },
    {
     "data": {
      "text/plain": [
       "True"
      ]
     },
     "execution_count": 3,
     "metadata": {},
     "output_type": "execute_result"
    }
   ],
   "source": [
    "data = {'PRODUTOR': 'Sigmam Brasil', 'CULTIVAR': 'AB123-Teste', 'LOTE': '12-SGM45', 'CATEGORIA': 'C4', 'PENEIRA': 'P2', 'NUM_AMOSTRA': 12, 'QNT_SEMENTES': 24, 'PESO_AMOSTR': 36.0, 'PMS_AMOSTR': 48.0, 'PESO_BAG': 60.0}\n",
    "\n",
    "from save_data import * \n",
    "data = createDF(data)\n",
    "export_to_csv(data, columns= [\n",
    "            \"PRODUTOR\",\n",
    "            \"CULTIVAR\",\n",
    "            \"LOTE\",\n",
    "            \"CATEGORIA\",\n",
    "            \"PENEIRA\",\n",
    "            \"NUM_AMOSTRA\",\n",
    "            \"QNT_SEMENTES\",\n",
    "            \"PESO_AMOSTR\",\n",
    "            \"PMS_AMOSTR\",\n",
    "            \"PESO_BAG\"\n",
    "            ])\n"
   ]
  },
  {
   "cell_type": "code",
   "execution_count": null,
   "metadata": {},
   "outputs": [],
   "source": []
  }
 ],
 "metadata": {
  "kernelspec": {
   "display_name": "Python 3",
   "language": "python",
   "name": "python3"
  },
  "language_info": {
   "codemirror_mode": {
    "name": "ipython",
    "version": 3
   },
   "file_extension": ".py",
   "mimetype": "text/x-python",
   "name": "python",
   "nbconvert_exporter": "python",
   "pygments_lexer": "ipython3",
   "version": "3.10.9"
  }
 },
 "nbformat": 4,
 "nbformat_minor": 2
}
